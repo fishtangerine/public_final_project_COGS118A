{
 "cells": [
  {
   "cell_type": "markdown",
   "id": "0895464d-ac2f-4d6f-81f9-d9414aafdd12",
   "metadata": {},
   "source": [
    "# Final Project: COGS118A"
   ]
  },
  {
   "cell_type": "markdown",
   "id": "287fa088-6b3c-4985-8a8c-2fadf21c6742",
   "metadata": {},
   "source": [
    "### Third dataset: EEG Alcohol Dataset"
   ]
  },
  {
   "cell_type": "markdown",
   "id": "7b58bea3-a81f-4135-b485-75e6c794ec69",
   "metadata": {},
   "source": [
    "# 1. Setup"
   ]
  },
  {
   "cell_type": "markdown",
   "id": "6a9f42f1-7378-40ed-99bc-b83e345528da",
   "metadata": {},
   "source": [
    "- Import necessary packages.\n",
    "- Load dataset"
   ]
  },
  {
   "cell_type": "code",
   "execution_count": 295,
   "id": "a248efdf-deb8-42d2-80b6-29fd9e5d26d3",
   "metadata": {},
   "outputs": [
    {
     "name": "stdout",
     "output_type": "stream",
     "text": [
      "Requirement already satisfied: ucimlrepo in /opt/anaconda3/lib/python3.12/site-packages (0.0.7)\n",
      "Requirement already satisfied: pandas>=1.0.0 in /opt/anaconda3/lib/python3.12/site-packages (from ucimlrepo) (2.2.2)\n",
      "Requirement already satisfied: certifi>=2020.12.5 in /opt/anaconda3/lib/python3.12/site-packages (from ucimlrepo) (2024.8.30)\n",
      "Requirement already satisfied: numpy>=1.26.0 in /opt/anaconda3/lib/python3.12/site-packages (from pandas>=1.0.0->ucimlrepo) (1.26.4)\n",
      "Requirement already satisfied: python-dateutil>=2.8.2 in /opt/anaconda3/lib/python3.12/site-packages (from pandas>=1.0.0->ucimlrepo) (2.9.0.post0)\n",
      "Requirement already satisfied: pytz>=2020.1 in /opt/anaconda3/lib/python3.12/site-packages (from pandas>=1.0.0->ucimlrepo) (2024.1)\n",
      "Requirement already satisfied: tzdata>=2022.7 in /opt/anaconda3/lib/python3.12/site-packages (from pandas>=1.0.0->ucimlrepo) (2023.3)\n",
      "Requirement already satisfied: six>=1.5 in /opt/anaconda3/lib/python3.12/site-packages (from python-dateutil>=2.8.2->pandas>=1.0.0->ucimlrepo) (1.16.0)\n"
     ]
    }
   ],
   "source": [
    "# Installation\n",
    "!pip install ucimlrepo\n",
    "\n",
    "# General\n",
    "import numpy as np\n",
    "import os\n",
    "import pandas as pd\n",
    "\n",
    "# Data Formats\n",
    "import gzip\n",
    "import tarfile\n",
    "import arff\n",
    "from scipy.io import arff\n",
    "\n",
    "# Preprocessing\n",
    "from sklearn.preprocessing import MinMaxScaler, StandardScaler\n",
    "from sklearn.preprocessing import normalize\n",
    "from imblearn.over_sampling import SMOTE\n",
    "\n",
    "# Data Split\n",
    "from sklearn.model_selection import train_test_split, cross_val_score, GridSearchCV\n",
    "\n",
    "# ML Models\n",
    "from sklearn.ensemble import RandomForestClassifier\n",
    "from sklearn.neighbors import KNeighborsClassifier\n",
    "from sklearn.neural_network import MLPClassifier\n",
    "\n",
    "# Metrics\n",
    "from sklearn.metrics import (\n",
    "    classification_report,\n",
    "    confusion_matrix,\n",
    "    ConfusionMatrixDisplay\n",
    ")\n",
    "\n",
    "# Viz\n",
    "import matplotlib.pyplot as plt\n",
    "import seaborn as sns\n",
    "\n",
    "# Clustering\n",
    "import scipy.cluster.hierarchy as sch\n",
    "from scipy.spatial.distance import pdist"
   ]
  },
  {
   "cell_type": "code",
   "execution_count": 296,
   "id": "fdeb4933-e292-4439-b8e2-7ccaefc03e7b",
   "metadata": {},
   "outputs": [],
   "source": [
    "dataset_folder = \"/Users/henrikformoe/Library/Mobile Documents/com~apple~CloudDocs/Desktop/Github/final_project_COGS118A/eeg+database\"\n",
    "train_file = os.path.join(dataset_folder, \"SMNI_CMI_TRAIN.tar.gz\")\n",
    "test_file = os.path.join(dataset_folder, \"SMNI_CMI_TEST.tar.gz\")"
   ]
  },
  {
   "cell_type": "code",
   "execution_count": 297,
   "id": "9b15448e-f1ce-4393-b7c1-b953e997f8fc",
   "metadata": {},
   "outputs": [
    {
     "name": "stderr",
     "output_type": "stream",
     "text": [
      "/var/folders/kb/t8njst5d1qg_hr3b0_jq9s2r0000gn/T/ipykernel_35638/1872243357.py:5: DeprecationWarning: Python 3.14 will, by default, filter extracted tar archives and reject files or modify their metadata. Use the filter argument to control this behavior.\n",
      "  tar.extractall(path=os.path.join(dataset_folder, \"train_data\"))\n"
     ]
    },
    {
     "name": "stdout",
     "output_type": "stream",
     "text": [
      "Extracted train dataset.\n"
     ]
    },
    {
     "name": "stderr",
     "output_type": "stream",
     "text": [
      "/var/folders/kb/t8njst5d1qg_hr3b0_jq9s2r0000gn/T/ipykernel_35638/1872243357.py:10: DeprecationWarning: Python 3.14 will, by default, filter extracted tar archives and reject files or modify their metadata. Use the filter argument to control this behavior.\n",
      "  tar.extractall(path=os.path.join(dataset_folder, \"test_data\"))\n"
     ]
    },
    {
     "name": "stdout",
     "output_type": "stream",
     "text": [
      "Extracted test dataset.\n"
     ]
    }
   ],
   "source": [
    "# Extract train and test datasets\n",
    "\n",
    "if tarfile.is_tarfile(train_file):\n",
    "    with tarfile.open(train_file, 'r:gz') as tar:\n",
    "        tar.extractall(path=os.path.join(dataset_folder, \"train_data\"))\n",
    "        print(\"Extracted train dataset.\")\n",
    "\n",
    "if tarfile.is_tarfile(test_file):\n",
    "    with tarfile.open(test_file, 'r:gz') as tar:\n",
    "        tar.extractall(path=os.path.join(dataset_folder, \"test_data\"))\n",
    "        print(\"Extracted test dataset.\")"
   ]
  },
  {
   "cell_type": "code",
   "execution_count": 298,
   "id": "1f018e61-c0a0-4dd2-a934-fe923f6a68e0",
   "metadata": {},
   "outputs": [],
   "source": [
    "train_folder = os.path.join(dataset_folder, \"train_data\")\n",
    "test_folder = os.path.join(dataset_folder, \"test_data\")"
   ]
  },
  {
   "cell_type": "code",
   "execution_count": 299,
   "id": "da0b9caa-59a7-4b5f-87da-7680893476c7",
   "metadata": {},
   "outputs": [],
   "source": [
    "def process_gz_files(base_dir):\n",
    "    gz_files = []\n",
    "    for root, dirs, files in os.walk(base_dir):\n",
    "        for file in files:\n",
    "            if file.endswith('.gz'):\n",
    "                gz_files.append(os.path.join(root, file))\n",
    "\n",
    "    all_data = []\n",
    "    for gz_file in gz_files:\n",
    "        with gzip.open(gz_file, 'rt') as f:\n",
    "            content = f.readlines()\n",
    "            data_lines = [line.strip() for line in content if not line.startswith('#')]\n",
    "            for line in data_lines:\n",
    "                all_data.append(line.split())\n",
    "    \n",
    "    return pd.DataFrame(all_data, columns=[\"Trial\", \"Channel\", \"Index\", \"Value\"])"
   ]
  },
  {
   "cell_type": "code",
   "execution_count": 300,
   "id": "09c4e2f5-bd6b-4c04-91ac-e3625ecc80be",
   "metadata": {},
   "outputs": [],
   "source": [
    "# Process training and testing datasets\n",
    "\n",
    "eeg_train = process_gz_files(train_folder)\n",
    "eeg_test = process_gz_files(test_folder)"
   ]
  },
  {
   "cell_type": "code",
   "execution_count": 303,
   "id": "a94465a3-9a27-4c66-b5fc-a3402b2ca6df",
   "metadata": {},
   "outputs": [
    {
     "name": "stdout",
     "output_type": "stream",
     "text": [
      "\n",
      "Training Dataset:\n",
      "Shape: (9830400, 4)\n",
      "<class 'pandas.core.frame.DataFrame'>\n",
      "RangeIndex: 9830400 entries, 0 to 9830399\n",
      "Data columns (total 4 columns):\n",
      " #   Column   Dtype \n",
      "---  ------   ----- \n",
      " 0   Trial    object\n",
      " 1   Channel  object\n",
      " 2   Index    object\n",
      " 3   Value    object\n",
      "dtypes: object(4)\n",
      "memory usage: 300.0+ MB\n",
      "None\n",
      "  Trial Channel Index   Value\n",
      "0     0     FP1     0  -2.462\n",
      "1     0     FP1     1  -2.462\n",
      "2     0     FP1     2  -1.485\n",
      "3     0     FP1     3  -0.509\n",
      "4     0     FP1     4  -0.020\n",
      "\n",
      "Testing Dataset:\n",
      "Shape: (9830400, 4)\n",
      "<class 'pandas.core.frame.DataFrame'>\n",
      "RangeIndex: 9830400 entries, 0 to 9830399\n",
      "Data columns (total 4 columns):\n",
      " #   Column   Dtype \n",
      "---  ------   ----- \n",
      " 0   Trial    object\n",
      " 1   Channel  object\n",
      " 2   Index    object\n",
      " 3   Value    object\n",
      "dtypes: object(4)\n",
      "memory usage: 300.0+ MB\n",
      "None\n",
      "  Trial Channel Index   Value\n",
      "0    51     FP1     0   3.642\n",
      "1    51     FP1     1   0.712\n",
      "2    51     FP1     2  -0.264\n",
      "3    51     FP1     3  -0.264\n",
      "4    51     FP1     4   0.224\n"
     ]
    }
   ],
   "source": [
    "# Dataset overview\n",
    "\n",
    "print(\"\\nTraining Dataset:\")\n",
    "print(f\"Shape: {eeg_train.shape}\")\n",
    "print(eeg_train.info())\n",
    "print(eeg_train.head())\n",
    "\n",
    "print(\"\\nTesting Dataset:\")\n",
    "print(f\"Shape: {eeg_test.shape}\")\n",
    "print(eeg_test.info())\n",
    "print(eeg_test.head())"
   ]
  },
  {
   "cell_type": "markdown",
   "id": "f3108e64-7cee-4ee4-8758-4164533d78b4",
   "metadata": {},
   "source": [
    "# 2. Exploratory Data Analysis and Preprocessing\n",
    "\n",
    "- Summarize datasets. \n",
    "- Visualize features and check distributions.\n",
    "\n",
    "- Alcoholic = 1, Control = 0"
   ]
  },
  {
   "cell_type": "code",
   "execution_count": 199,
   "id": "5e435d7b-09d6-4367-95e5-922d833a3db9",
   "metadata": {},
   "outputs": [
    {
     "name": "stdout",
     "output_type": "stream",
     "text": [
      "Duplicates Check:\n",
      "EEG Alcohol Dataset Test: 24638 duplicates\n",
      "EEG Alcohol Dataset Train: 27277 duplicates\n"
     ]
    }
   ],
   "source": [
    "print(\"Duplicates Check:\")\n",
    "print(f\"EEG Alcohol Dataset Test: {eeg_test.duplicated().sum()} duplicates\")\n",
    "print(f\"EEG Alcohol Dataset Train: {eeg_train.duplicated().sum()} duplicates\")"
   ]
  },
  {
   "cell_type": "markdown",
   "id": "a50f85f7-3de5-4309-9c69-4731d7d17f71",
   "metadata": {},
   "source": [
    "eeg = eeg.drop_duplicates()"
   ]
  },
  {
   "cell_type": "code",
   "execution_count": 231,
   "id": "75f6881d-2d91-4f26-b095-6b037fe52b14",
   "metadata": {},
   "outputs": [],
   "source": [
    "# Remove missing values\n",
    "\n",
    "eeg = eeg_test.dropna()\n",
    "eeg = eeg_train.dropna()"
   ]
  },
  {
   "cell_type": "code",
   "execution_count": 232,
   "id": "2177a68c-4482-4147-bc26-1728b3c9874f",
   "metadata": {},
   "outputs": [],
   "source": [
    "# Identify the target variable (e.g., 'Alcoholic' or 'Control')\n",
    "# Convert target variable to numeric\n",
    "\n",
    "eeg_train['Target'] = eeg_train.iloc[:, 0].apply(lambda x: 'Alcoholic' if 'a_' in x else 'Control')\n",
    "eeg_train['Target'] = eeg_train['Target'].map({'Alcoholic': 1, 'Control': 0})\n",
    "\n",
    "eeg_test['Target'] = eeg_test.iloc[:, 0].apply(lambda x: 'Alcoholic' if 'a_' in x else 'Control')\n",
    "eeg_test['Target'] = eeg_test['Target'].map({'Alcoholic': 1, 'Control': 0})"
   ]
  },
  {
   "cell_type": "code",
   "execution_count": 239,
   "id": "87149956-40cb-402c-913d-75b1f48868e0",
   "metadata": {},
   "outputs": [],
   "source": [
    "# Remove unnecessary columns\n",
    "\n",
    "eeg_train = eeg_train.drop(columns=[eeg_train.columns[0]])\n",
    "eeg_test = eeg_test.drop(columns=[eeg_test.columns[0]]) "
   ]
  },
  {
   "cell_type": "code",
   "execution_count": 240,
   "id": "16ed51d4-0410-464b-ac28-4e2cdef2c0e8",
   "metadata": {},
   "outputs": [],
   "source": [
    "# Separate features and target\n",
    "\n",
    "X_train = eeg_train.drop(columns=['Target', 'Value'])\n",
    "y_train = eeg_train['Target']\n",
    "\n",
    "X_test = eeg_test.drop(columns=['Target', 'Value']) \n",
    "y_test = eeg_test['Target']"
   ]
  },
  {
   "cell_type": "code",
   "execution_count": 255,
   "id": "e84f5755-57de-4191-806d-ee7ef2fc1559",
   "metadata": {},
   "outputs": [],
   "source": [
    "# Extract numeric feature data for training and testing\n",
    "\n",
    "X_train_numeric = eeg_train[['Value']].astype(float)\n",
    "X_test_numeric = eeg_test[['Value']].astype(float)\n",
    "\n",
    "# Extract numeric feature data for validation (split from training data)\n",
    "\n",
    "X_train_numeric, X_val_numeric, y_train, y_val = train_test_split(\n",
    "    X_train_numeric, eeg_train['Target'], test_size=0.2, random_state=42\n",
    ")"
   ]
  },
  {
   "cell_type": "code",
   "execution_count": 252,
   "id": "7436d377-aa3b-4181-bf18-a2d49cec70c2",
   "metadata": {},
   "outputs": [
    {
     "name": "stdout",
     "output_type": "stream",
     "text": [
      "Shapes of processed datasets:\n",
      "X_train_numeric shape: (7864320, 1)\n",
      "X_val_numeric shape: (1966080, 1)\n",
      "y_train shape: (7864320,)\n",
      "y_val shape: (1966080,)\n"
     ]
    }
   ],
   "source": [
    "# Print dataset shapes for verification\n",
    "\n",
    "print(\"Shapes of processed datasets:\")\n",
    "print(\"X_train_numeric shape:\", X_train_numeric.shape)\n",
    "print(\"X_val_numeric shape:\", X_val_numeric.shape)\n",
    "print(\"y_train shape:\", y_train.shape)\n",
    "print(\"y_val shape:\", y_val.shape)"
   ]
  },
  {
   "cell_type": "code",
   "execution_count": 261,
   "id": "892aaa53-6089-4922-8d10-2202b9d449f3",
   "metadata": {},
   "outputs": [
    {
     "name": "stdout",
     "output_type": "stream",
     "text": [
      "Training features shape (scaled): (7864320, 1)\n",
      "Validation features shape (scaled): (1966080, 1)\n",
      "Testing features shape (scaled): (9830400, 1)\n"
     ]
    }
   ],
   "source": [
    "# Scale data for RF and ANN\n",
    "\n",
    "scaler = StandardScaler()\n",
    "X_train_scaled = scaler.fit_transform(X_train_numeric)\n",
    "X_val_scaled = scaler.transform(X_val_numeric)\n",
    "X_test_scaled = scaler.transform(X_test_numeric)\n",
    "\n",
    "print(\"Training features shape (scaled):\", X_train_scaled.shape)\n",
    "print(\"Validation features shape (scaled):\", X_val_scaled.shape)\n",
    "print(\"Testing features shape (scaled):\", X_test_scaled.shape)"
   ]
  },
  {
   "cell_type": "code",
   "execution_count": 263,
   "id": "9c04a30f-f531-4a1c-8ba9-0c699118a556",
   "metadata": {},
   "outputs": [
    {
     "name": "stdout",
     "output_type": "stream",
     "text": [
      "Training features shape (normalized): (7864320, 1)\n",
      "Validation features shape (normalized): (1966080, 1)\n",
      "Testing features shape (normalized): (9830400, 1)\n"
     ]
    }
   ],
   "source": [
    "# Normalize for KNN\n",
    "\n",
    "X_train_norm = normalize(X_train_numeric, axis=0)\n",
    "X_val_norm = normalize(X_val_numeric, axis=0)\n",
    "X_test_norm = normalize(X_test_numeric, axis=0)\n",
    "\n",
    "print(\"Training features shape (normalized):\", X_train_norm.shape)\n",
    "print(\"Validation features shape (normalized):\", X_val_norm.shape)\n",
    "print(\"Testing features shape (normalized):\", X_test_norm.shape)"
   ]
  },
  {
   "cell_type": "markdown",
   "id": "30316a68-086d-496e-8f38-19a0910dc92a",
   "metadata": {},
   "source": [
    "## Visualize data"
   ]
  },
  {
   "cell_type": "code",
   "execution_count": 284,
   "id": "b2c7cef4-20b8-4566-b3f7-9c3b8591aeb7",
   "metadata": {},
   "outputs": [
    {
     "data": {
      "image/png": "[encoded data removed]",
      "text/plain": [
       "<Figure size 1600x1200 with 1 Axes>"
      ]
     },
     "metadata": {},
     "output_type": "display_data"
    },
    {
     "data": {
      "image/png": "[encoded data removed]",
      "text/plain": [
       "<Figure size 1600x1200 with 1 Axes>"
      ]
     },
     "metadata": {},
     "output_type": "display_data"
    }
   ],
   "source": [
    "# histogram for training data\n",
    "X_train_numeric.hist(\n",
    "    figsize=(16, 12), bins=30, edgecolor='black', color='skyblue', grid=False\n",
    ")\n",
    "plt.suptitle('Histogram of EEG Alcohol Dataset Training Features', fontsize=16)\n",
    "plt.tight_layout(rect=[0, 0, 1, 0.96])\n",
    "plt.show()\n",
    "\n",
    "# histogram for test data\n",
    "\n",
    "X_test_numeric.hist(\n",
    "    figsize=(16, 12), bins=30, edgecolor='black', color='lightcoral', grid=False\n",
    ")\n",
    "plt.suptitle('Histogram of EEG Alcohol Dataset Test Features', fontsize=16)\n",
    "plt.tight_layout(rect=[0, 0, 1, 0.96])\n",
    "plt.show()"
   ]
  },
  {
   "cell_type": "markdown",
   "id": "666128ce-0028-4148-b2d8-8d790a26c2e4",
   "metadata": {},
   "source": [
    "# Converting target to int\n",
    "\n",
    "eeg['eyeDetection'] = eeg['eyeDetection'].astype(int)\n",
    "numeric_eeg = eeg.select_dtypes(include=[np.number])\n",
    "corr = numeric_eeg.corr()"
   ]
  },
  {
   "cell_type": "markdown",
   "id": "eca6ed30-cfd6-400a-a4d2-872015e5619b",
   "metadata": {},
   "source": [
    "# Select numeric columns\n",
    "\n",
    "print(numeric_eeg.columns)\n",
    "print([col for col in numeric_eeg.columns if 'eyeDetection' in col])"
   ]
  },
  {
   "cell_type": "markdown",
   "id": "6176dcee-1db6-40b9-bd6d-e2546a8d4bf3",
   "metadata": {},
   "source": [
    "# Select features with strong correlation\n",
    "\n",
    "selected_features = target_corr[abs(target_corr) > 0.3].index\n",
    "reduced_data = eeg[selected_features]\n",
    "print(reduced_data.head())"
   ]
  },
  {
   "cell_type": "markdown",
   "id": "5598e407-94d7-4bd4-8f6c-a8e454be5b17",
   "metadata": {},
   "source": [
    "scaled_eeg = pd.DataFrame(X_train_scaled, columns=X.columns)\n",
    "scaled_eeg['eyeDetection'] = y_train.reset_index(drop=True)\n",
    "\n",
    "# Pairplot for scaled data\n",
    "sns.pairplot(scaled_eeg, vars=['FC6', 'F4', 'T8', 'F3'], hue='eyeDetection', diag_kind=\"kde\")\n",
    "plt.show()"
   ]
  },
  {
   "cell_type": "markdown",
   "id": "6c61f41b-a500-476e-a728-6340e1b96488",
   "metadata": {},
   "source": [
    "# 3. Preprocessing"
   ]
  },
  {
   "cell_type": "markdown",
   "id": "0fd71968-a64a-48dd-9733-0dce630c14e7",
   "metadata": {},
   "source": [
    "# Check for null values\n",
    "\n",
    "print(eeg.isnull().sum())"
   ]
  },
  {
   "cell_type": "markdown",
   "id": "cea3bc75-f1db-4c2f-823a-a26ec328785e",
   "metadata": {},
   "source": [
    "# Normalize numeric columns\n",
    "\n",
    "numeric_columns = eeg.select_dtypes(include=[np.number]).columns\n",
    "\n",
    "scaler = MinMaxScaler()\n",
    "\n",
    "eeg_normalized = eeg.copy()\n",
    "eeg_normalized[numeric_columns] = scaler.fit_transform(eeg[numeric_columns])\n",
    "\n",
    "print(eeg_normalized.head())"
   ]
  },
  {
   "cell_type": "markdown",
   "id": "79543d18-5da7-4fe7-abe6-5f5914794910",
   "metadata": {},
   "source": [
    "# Separate features and target variable, and split into training, validation and test sets\n",
    "\n",
    "X = eeg_normalized.drop(columns=['eyeDetection'])\n",
    "y = eeg_normalized['eyeDetection']\n",
    "\n",
    "X_train, X_test, y_train, y_test = train_test_split(X, y, test_size=0.2, random_state=42)\n",
    "\n",
    "X_train, X_val, y_train, y_val = train_test_split(X_train, y_train, test_size=0.25, random_state=42)\n",
    "\n",
    "print(\"Training features shape:\", X_train.shape)\n",
    "print(\"Validation features shape:\", X_val.shape)\n",
    "print(\"Testing features shape:\", X_test.shape)\n",
    "print(\"Training target shape:\", y_train.shape)\n",
    "print(\"Validation target shape:\", y_val.shape)\n",
    "print(\"Testing target shape:\", y_test.shape)"
   ]
  },
  {
   "cell_type": "markdown",
   "id": "71279043-4af1-4edb-94c7-f905fb027b31",
   "metadata": {},
   "source": [
    "# 4. Train and tune Models\n",
    "\n",
    "- Train Random Forests, KNN, and Neural Networks\n",
    "- Compare performances"
   ]
  },
  {
   "cell_type": "markdown",
   "id": "40a3a12b-7eca-4685-8341-7dd03d8ae091",
   "metadata": {},
   "source": [
    "## Random Forest Classifier"
   ]
  },
  {
   "cell_type": "markdown",
   "id": "f942dd0a-24c9-4abd-aa1d-67a98a75d56f",
   "metadata": {},
   "source": [
    "rf = RandomForestClassifier(random_state=42)\n",
    "rf.fit(X_train_scaled, y_train)\n",
    "\n",
    "y_pred_val_rf = rf.predict(X_val_scaled)\n",
    "print(\"Random Forest Classifier Performance on Validation Data:\")\n",
    "print(classification_report(y_val, y_pred_val_rf))"
   ]
  },
  {
   "cell_type": "markdown",
   "id": "48749de4-c496-4fc6-aa2a-ff7e5c55577b",
   "metadata": {},
   "source": [
    "# GridSearchCV for hyperparameter tuning for RF\n",
    "\n",
    "param_grid = {\n",
    "    'n_estimators': [50, 100, 150],\n",
    "    'max_depth': [None, 10, 20],\n",
    "    'min_samples_split': [2, 5],\n",
    "    'min_samples_leaf': [1, 2],\n",
    "    'max_features': ['sqrt', 'log2']\n",
    "}\n",
    "\n",
    "rf = RandomForestClassifier(random_state=42)\n",
    "grid_search = GridSearchCV(rf, param_grid, cv=3, scoring='accuracy', verbose=1)\n",
    "grid_search.fit(X_train_scaled, y_train)\n",
    "\n",
    "print(\"Best Params:\", grid_search.best_params_)\n",
    "print(\"Best Score:\", grid_search.best_score_)"
   ]
  },
  {
   "cell_type": "markdown",
   "id": "150cfabb-71b3-40a7-bc4e-16be87635f15",
   "metadata": {},
   "source": [
    "## K-Nearest Neighbors Classifier"
   ]
  },
  {
   "cell_type": "markdown",
   "id": "ec90d662-2260-4d1c-bb6c-aa996c714c65",
   "metadata": {},
   "source": [
    "knn = KNeighborsClassifier(n_neighbors=3)\n",
    "\n",
    "knn.fit(X_train_norm, y_train)\n",
    "\n",
    "y_pred_val_knn = knn.predict(X_val_norm)\n",
    "\n",
    "print(\"K-Nearest Neighbors Classifier Performance on Validation Data:\")\n",
    "print(classification_report(y_val, y_pred_val_knn))"
   ]
  },
  {
   "cell_type": "markdown",
   "id": "d1cfcd49-186c-4835-a869-ed8d594a3867",
   "metadata": {},
   "source": [
    "# GridSearchCV for hyperparameter tuning for KNN \n",
    "\n",
    "param_grid = {\n",
    "    'n_neighbors': [3, 5, 7, 10],\n",
    "    'weights': ['uniform', 'distance'],\n",
    "    'p': [1, 2]\n",
    "}\n",
    "\n",
    "knn = KNeighborsClassifier()\n",
    "grid_search = GridSearchCV(knn, param_grid, cv=5, scoring='accuracy', verbose=1)\n",
    "grid_search.fit(X_train_norm, y_train)\n",
    "\n",
    "print(\"Best Params:\", grid_search.best_params_)\n",
    "print(\"Best Score:\", grid_search.best_score_)\n",
    "y_pred = grid_search.best_estimator_.predict(X_test_norm)\n",
    "print(classification_report(y_test, y_pred))"
   ]
  },
  {
   "cell_type": "markdown",
   "id": "df844b31-0f23-40c1-a2d6-cbb3db9b95d8",
   "metadata": {},
   "source": [
    "## Neural Network Classifier"
   ]
  },
  {
   "cell_type": "markdown",
   "id": "fda0e578-96e3-45a1-9670-d4b39b9957e2",
   "metadata": {},
   "source": [
    "mlp = MLPClassifier(hidden_layer_sizes=(50,), max_iter=2000, random_state=42)\n",
    "mlp.fit(X_train_scaled, y_train)\n",
    "\n",
    "y_pred_val_mlp = mlp.predict(X_val_scaled)\n",
    "\n",
    "print(\"Neural Network Classifier Performance on Validation Data:\")\n",
    "print(classification_report(y_val, y_pred_val_mlp))"
   ]
  },
  {
   "cell_type": "markdown",
   "id": "59ada97b-ca60-48f4-b817-1c3f69336fe8",
   "metadata": {},
   "source": [
    "# GridSearchCV for hyperparameter tuning for ANN\n",
    "\n",
    "param_grid = {\n",
    "    'hidden_layer_sizes': [(50,), (100,), (50, 50)],\n",
    "    'max_iter': [1500, 2000],\n",
    "    'activation': ['relu', 'tanh'],\n",
    "    'solver': ['adam', 'sgd'],\n",
    "    'learning_rate': ['constant', 'adaptive'],\n",
    "}\n",
    "\n",
    "mlp = MLPClassifier(random_state=42)\n",
    "\n",
    "grid_search = GridSearchCV(mlp, param_grid, cv=3, scoring='accuracy', verbose=1)\n",
    "grid_search.fit(X_train_scaled, y_train)\n",
    "\n",
    "print(\"Best Params:\", grid_search.best_params_)\n",
    "print(\"Best Score:\", grid_search.best_score_)\n",
    "\n",
    "y_pred_val_mlp = grid_search.best_estimator_.predict(X_val_scaled)\n",
    "print(\"Neural Network Classifier Performance on Validation Data:\")\n",
    "print(classification_report(y_val, y_pred_val_mlp))"
   ]
  },
  {
   "cell_type": "markdown",
   "id": "6485fb93-bd84-4d1e-a9a4-3f64a4bc8260",
   "metadata": {},
   "source": [
    "## Comparison of models"
   ]
  },
  {
   "cell_type": "markdown",
   "id": "9b6cd206-e2fe-4c9a-882f-3e739931607f",
   "metadata": {},
   "source": [
    "# Metrics for each model deployed on validation data from EEG Eye State Dataset\n",
    "\n",
    "models = ['Random Forest', 'K-Nearest Neighbors', 'Neural Network']\n",
    "accuracies = [0.92, 0.97, 0.87]\n",
    "macro_f1_scores = [0.92, 0.97, 0.87]\n",
    "\n",
    "x = np.arange(len(models))\n",
    "width = 0.35\n",
    "\n",
    "fig, ax = plt.subplots(figsize=(8, 6))\n",
    "bars1 = ax.bar(x - width/2, accuracies, width, label='Accuracy', alpha=0.8)\n",
    "bars2 = ax.bar(x + width/2, macro_f1_scores, width, label='Macro F1-Score', alpha=0.8)\n",
    "\n",
    "ax.set_xlabel('Models', fontsize=12)\n",
    "ax.set_ylabel('Scores', fontsize=12)\n",
    "ax.set_title('Comparison of Model Performance on Validation Data from EEG Eye State Dataset', fontsize=14)\n",
    "ax.set_xticks(x)\n",
    "ax.set_xticklabels(models, fontsize=12)\n",
    "ax.legend(fontsize=10, loc='upper center', bbox_to_anchor=(0.5, -0.1), ncol=2)\n",
    "\n",
    "for bar in bars1:\n",
    "    height = bar.get_height()\n",
    "    ax.text(bar.get_x() + bar.get_width()/2, height + 0.02,\n",
    "            f'{height:.2f}', ha='center', va='bottom', fontsize=10)\n",
    "\n",
    "for bar in bars2:\n",
    "    height = bar.get_height()\n",
    "    ax.text(bar.get_x() + bar.get_width()/2, height + 0.02,\n",
    "            f'{height:.2f}', ha='center', va='bottom', fontsize=10)\n",
    "\n",
    "plt.tight_layout()\n",
    "plt.show()"
   ]
  },
  {
   "cell_type": "markdown",
   "id": "ecfc85f9-ddb7-41c8-9a12-164f515ca76d",
   "metadata": {},
   "source": [
    "# 5. Evaluation"
   ]
  },
  {
   "cell_type": "markdown",
   "id": "ab0bd23c-fe6e-47a4-ac22-c73accd73126",
   "metadata": {},
   "source": [
    "## Random Forest Classifier"
   ]
  },
  {
   "cell_type": "markdown",
   "id": "bf2c805e-8a21-4975-956a-c90e5ace5a66",
   "metadata": {},
   "source": [
    "print(\"Random Forest Classifier Performance on Validation Data:\")\n",
    "print(classification_report(y_val, y_pred_val_rf))\n",
    "\n",
    "y_pred_test_rf = rf.predict(X_test_scaled)\n",
    "print(\"Random Forest Classifier Performance on Test Data:\")\n",
    "print(classification_report(y_test, y_pred_test_rf))"
   ]
  },
  {
   "cell_type": "markdown",
   "id": "621f3a18-8776-4ff3-95ae-d833a3a08198",
   "metadata": {},
   "source": [
    "# Feature importance from trained Random Forest model\n",
    "\n",
    "feature_importances = rf.feature_importances_\n",
    "\n",
    "features = pd.DataFrame({\n",
    "    'Feature': X_train.columns,\n",
    "    'Importance': feature_importances\n",
    "}).sort_values(by='Importance', ascending=False)\n",
    "\n",
    "print(features)\n",
    "\n",
    "plt.figure(figsize=(10, 6))\n",
    "plt.barh(features['Feature'], features['Importance'], color='skyblue')\n",
    "plt.gca().invert_yaxis()\n",
    "plt.xlabel('Feature Importance', fontsize=12)\n",
    "plt.ylabel('Feature', fontsize=12)\n",
    "plt.title('Feature Importance in Random Forest - EEG EYE State Dataset', fontsize=14)\n",
    "plt.tight_layout()\n",
    "plt.show()"
   ]
  },
  {
   "cell_type": "markdown",
   "id": "eab168b9-6853-4929-9214-fd8db8426354",
   "metadata": {},
   "source": [
    "## K-Nearest Neighbors Classifier"
   ]
  },
  {
   "cell_type": "markdown",
   "id": "8b3fe3da-c18e-4241-bfde-676abad1ae20",
   "metadata": {},
   "source": [
    "print(\"K-Nearest Neighbors Classifier Performance on Validation Data:\")\n",
    "print(classification_report(y_val, y_pred_val_knn))\n",
    "\n",
    "y_pred_test_knn = knn.predict(X_test_norm)\n",
    "print(\"K-Nearest Neighbors Classifier Performance on Test Data:\")\n",
    "print(classification_report(y_test, y_pred_test_knn))"
   ]
  },
  {
   "cell_type": "markdown",
   "id": "fc5cab7a-84f8-4e50-b860-9127a562c230",
   "metadata": {},
   "source": [
    "## Neural Network Classifier"
   ]
  },
  {
   "cell_type": "markdown",
   "id": "4844c8b9-c5e2-4ac6-a6cb-b5edb6986cfc",
   "metadata": {},
   "source": [
    "print(\"Neural Network Classifier Performance on Validation Data:\")\n",
    "print(classification_report(y_val, y_pred_val_mlp))\n",
    "\n",
    "y_pred_test_mlp = mlp.predict(X_test_scaled)\n",
    "print(\"Neural Network Classifier Performance on Test Data:\")\n",
    "print(classification_report(y_test, y_pred_test_mlp))"
   ]
  },
  {
   "cell_type": "markdown",
   "id": "fd7b72db-e5bc-47a6-8f04-051ae61ef1fe",
   "metadata": {},
   "source": [
    "## Comparison of final models on test data:"
   ]
  },
  {
   "cell_type": "markdown",
   "id": "1998ab3c-0aae-4f83-b425-33cb5a6293c8",
   "metadata": {},
   "source": [
    "odels = ['Random Forest', 'K-Nearest Neighbors', 'Neural Network']\n",
    "accuracies = [0.92, 0.97, 0.88]\n",
    "macro_f1_scores = [0.92, 0.97, 0.88]\n",
    "\n",
    "x = np.arange(len(models))\n",
    "width = 0.35\n",
    "\n",
    "fig, ax = plt.subplots(figsize=(10, 6))\n",
    "bars1 = ax.bar(x - width/2, accuracies, width, label='Accuracy', alpha=0.8, color='steelblue')\n",
    "bars2 = ax.bar(x + width/2, macro_f1_scores, width, label='Macro F1-Score', alpha=0.8, color='orange')\n",
    "\n",
    "ax.set_xlabel('Models', fontsize=12)\n",
    "ax.set_ylabel('Scores', fontsize=12)\n",
    "ax.set_title('Comparison of Model Performance on Test Data from EEG Eye State Dataset', fontsize=14)\n",
    "ax.set_xticks(x)\n",
    "ax.set_xticklabels(models, fontsize=12)\n",
    "ax.legend(fontsize=10, loc='upper center', bbox_to_anchor=(0.5, -0.1), ncol=2)\n",
    "\n",
    "for bar in bars1:\n",
    "    height = bar.get_height()\n",
    "    ax.text(bar.get_x() + bar.get_width()/2, height + 0.01, f'{height:.2f}', ha='center', va='bottom', fontsize=10)\n",
    "\n",
    "for bar in bars2:\n",
    "    height = bar.get_height()\n",
    "    ax.text(bar.get_x() + bar.get_width()/2, height + 0.01, f'{height:.2f}', ha='center', va='bottom', fontsize=10)\n",
    "\n",
    "plt.tight_layout()\n",
    "plt.show()"
   ]
  }
 ],
 "metadata": {
  "kernelspec": {
   "display_name": "Python 3 (ipykernel)",
   "language": "python",
   "name": "python3"
  },
  "language_info": {
   "codemirror_mode": {
    "name": "ipython",
    "version": 3
   },
   "file_extension": ".py",
   "mimetype": "text/x-python",
   "name": "python",
   "nbconvert_exporter": "python",
   "pygments_lexer": "ipython3",
   "version": "3.12.4"
  }
 },
 "nbformat": 4,
 "nbformat_minor": 5
}
